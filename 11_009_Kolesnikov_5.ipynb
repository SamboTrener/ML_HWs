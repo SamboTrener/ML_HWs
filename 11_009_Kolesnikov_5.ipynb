{
  "nbformat": 4,
  "nbformat_minor": 0,
  "metadata": {
    "colab": {
      "provenance": [],
      "authorship_tag": "ABX9TyOozdIwHHdpNV4vMtauysoh"
    },
    "kernelspec": {
      "name": "python3",
      "display_name": "Python 3"
    },
    "language_info": {
      "name": "python"
    }
  },
  "cells": [
    {
      "cell_type": "code",
      "execution_count": 1,
      "metadata": {
        "colab": {
          "base_uri": "https://localhost:8080/"
        },
        "id": "Y5C8q_UIJvx8",
        "outputId": "22db81d6-a404-43e7-c681-aa741bf67655"
      },
      "outputs": [
        {
          "output_type": "stream",
          "name": "stderr",
          "text": [
            "<ipython-input-1-41f3d8d78b0d>:36: MatplotlibDeprecationWarning: The seaborn styles shipped by Matplotlib are deprecated since 3.6, as they no longer correspond to the styles shipped by seaborn. However, they will remain available as 'seaborn-v0_8-<style>'. Alternatively, directly use the seaborn API instead.\n",
            "  plt.style.use('seaborn-whitegrid')\n"
          ]
        }
      ],
      "source": [
        "import numpy as np\n",
        "import pandas as pd\n",
        "import seaborn as sns\n",
        "import matplotlib.pyplot as plt\n",
        "\n",
        "from sklearn.model_selection import train_test_split\n",
        "from sklearn.preprocessing import StandardScaler\n",
        "from sklearn.model_selection import cross_val_score, cross_val_predict, cross_validate\n",
        "\n",
        "from sklearn.linear_model import LinearRegression, Ridge, Lasso, LassoCV, ElasticNet, ElasticNetCV # Линейна регрессия, Ридж и Лассо\n",
        "from sklearn.linear_model import LassoCV, RidgeCV, MultiTaskLassoCV # Ridge и Lasso Регрессия\n",
        "from sklearn.svm import SVR\n",
        "from sklearn.tree import DecisionTreeRegressor\n",
        "from sklearn.ensemble import RandomForestRegressor\n",
        "# from sklearn.ensemble import GradientBoostingRegressor\n",
        "\n",
        "from sklearn.metrics import make_scorer, r2_score\n",
        "\n",
        "from sklearn.pipeline import Pipeline\n",
        "from sklearn.pipeline import make_pipeline\n",
        "from sklearn.model_selection import GridSearchCV\n",
        "\n",
        "import gc\n",
        "\n",
        "sns.set()\n",
        "%matplotlib inline\n",
        "\n",
        "import sys\n",
        "# np.set_printoptions(suppress=True)\n",
        "# np.set_printoptions(threshold=sys.maxsize)\n",
        "np.set_printoptions(precision=3)\n",
        "\n",
        "DISPLAY_MAX_ROWS = 20 #20\n",
        "pd.set_option('display.max_rows', DISPLAY_MAX_ROWS)\n",
        "pd.set_option('display.max_column',None)\n",
        "plt.style.use('seaborn-whitegrid')\n",
        "\n",
        "\n",
        "# plt.rcParams[\"figure.figsize\"] = (20, 15)\n",
        "\n",
        "import warnings\n",
        "warnings.filterwarnings('ignore')"
      ]
    },
    {
      "cell_type": "code",
      "source": [
        "df = pd.read_csv(\"data.csv\")"
      ],
      "metadata": {
        "id": "12_EIAZBKC-h"
      },
      "execution_count": 2,
      "outputs": []
    },
    {
      "cell_type": "code",
      "source": [
        "df"
      ],
      "metadata": {
        "colab": {
          "base_uri": "https://localhost:8080/",
          "height": 424
        },
        "id": "QSPEs2YIKPa2",
        "outputId": "7b75978d-1e3e-44ec-8c55-aa8a228d3fc4"
      },
      "execution_count": 3,
      "outputs": [
        {
          "output_type": "execute_result",
          "data": {
            "text/plain": [
              "       KS4_GPA5_Qtg.PV  KS4_GPA5_TC_T1.PV  KS4_GPA5_Nst.PV  KS4_GPA5_Nvd.PV  \\\n",
              "0            50.074285          50.656771       500.475537      1207.542773   \n",
              "1            50.074926          50.656771       500.379883      1209.190723   \n",
              "2            50.074836          50.666920       499.359570      1210.159082   \n",
              "3            50.074957          50.666920       500.535840      1210.641602   \n",
              "4            50.075145          50.666920       500.198145      1211.398438   \n",
              "...                ...                ...              ...              ...   \n",
              "29707        50.070496          52.706500       459.827393      1238.176660   \n",
              "29708        50.070217          52.716716       459.400806      1237.532422   \n",
              "29709        50.070292          52.696284       459.942578      1237.783984   \n",
              "29710        50.070389          52.675853       460.185791      1237.441895   \n",
              "29711        50.070426          52.778009       460.525000      1239.173828   \n",
              "\n",
              "       KS4_GPA5_Nnd.PV  KS4_GPA5_T4.PV  KS4_GPA5_Pk.PV  \n",
              "0           912.161426      119.562970       51.248955  \n",
              "1           914.203027      119.683643       51.255357  \n",
              "2           914.924512      119.665576       51.263570  \n",
              "3           915.881055      119.674750       51.267725  \n",
              "4           916.435645      119.692188       51.264826  \n",
              "...                ...             ...             ...  \n",
              "29707       914.571973      128.579962       51.102349  \n",
              "29708       913.476074      128.521655       51.102543  \n",
              "29709       913.913086      128.503632       51.102639  \n",
              "29710       913.895508      128.481744       51.103799  \n",
              "29711       914.839062      128.774774       51.098194  \n",
              "\n",
              "[29712 rows x 7 columns]"
            ],
            "text/html": [
              "\n",
              "  <div id=\"df-818fbba5-295b-4559-bd80-b104804915d2\" class=\"colab-df-container\">\n",
              "    <div>\n",
              "<style scoped>\n",
              "    .dataframe tbody tr th:only-of-type {\n",
              "        vertical-align: middle;\n",
              "    }\n",
              "\n",
              "    .dataframe tbody tr th {\n",
              "        vertical-align: top;\n",
              "    }\n",
              "\n",
              "    .dataframe thead th {\n",
              "        text-align: right;\n",
              "    }\n",
              "</style>\n",
              "<table border=\"1\" class=\"dataframe\">\n",
              "  <thead>\n",
              "    <tr style=\"text-align: right;\">\n",
              "      <th></th>\n",
              "      <th>KS4_GPA5_Qtg.PV</th>\n",
              "      <th>KS4_GPA5_TC_T1.PV</th>\n",
              "      <th>KS4_GPA5_Nst.PV</th>\n",
              "      <th>KS4_GPA5_Nvd.PV</th>\n",
              "      <th>KS4_GPA5_Nnd.PV</th>\n",
              "      <th>KS4_GPA5_T4.PV</th>\n",
              "      <th>KS4_GPA5_Pk.PV</th>\n",
              "    </tr>\n",
              "  </thead>\n",
              "  <tbody>\n",
              "    <tr>\n",
              "      <th>0</th>\n",
              "      <td>50.074285</td>\n",
              "      <td>50.656771</td>\n",
              "      <td>500.475537</td>\n",
              "      <td>1207.542773</td>\n",
              "      <td>912.161426</td>\n",
              "      <td>119.562970</td>\n",
              "      <td>51.248955</td>\n",
              "    </tr>\n",
              "    <tr>\n",
              "      <th>1</th>\n",
              "      <td>50.074926</td>\n",
              "      <td>50.656771</td>\n",
              "      <td>500.379883</td>\n",
              "      <td>1209.190723</td>\n",
              "      <td>914.203027</td>\n",
              "      <td>119.683643</td>\n",
              "      <td>51.255357</td>\n",
              "    </tr>\n",
              "    <tr>\n",
              "      <th>2</th>\n",
              "      <td>50.074836</td>\n",
              "      <td>50.666920</td>\n",
              "      <td>499.359570</td>\n",
              "      <td>1210.159082</td>\n",
              "      <td>914.924512</td>\n",
              "      <td>119.665576</td>\n",
              "      <td>51.263570</td>\n",
              "    </tr>\n",
              "    <tr>\n",
              "      <th>3</th>\n",
              "      <td>50.074957</td>\n",
              "      <td>50.666920</td>\n",
              "      <td>500.535840</td>\n",
              "      <td>1210.641602</td>\n",
              "      <td>915.881055</td>\n",
              "      <td>119.674750</td>\n",
              "      <td>51.267725</td>\n",
              "    </tr>\n",
              "    <tr>\n",
              "      <th>4</th>\n",
              "      <td>50.075145</td>\n",
              "      <td>50.666920</td>\n",
              "      <td>500.198145</td>\n",
              "      <td>1211.398438</td>\n",
              "      <td>916.435645</td>\n",
              "      <td>119.692188</td>\n",
              "      <td>51.264826</td>\n",
              "    </tr>\n",
              "    <tr>\n",
              "      <th>...</th>\n",
              "      <td>...</td>\n",
              "      <td>...</td>\n",
              "      <td>...</td>\n",
              "      <td>...</td>\n",
              "      <td>...</td>\n",
              "      <td>...</td>\n",
              "      <td>...</td>\n",
              "    </tr>\n",
              "    <tr>\n",
              "      <th>29707</th>\n",
              "      <td>50.070496</td>\n",
              "      <td>52.706500</td>\n",
              "      <td>459.827393</td>\n",
              "      <td>1238.176660</td>\n",
              "      <td>914.571973</td>\n",
              "      <td>128.579962</td>\n",
              "      <td>51.102349</td>\n",
              "    </tr>\n",
              "    <tr>\n",
              "      <th>29708</th>\n",
              "      <td>50.070217</td>\n",
              "      <td>52.716716</td>\n",
              "      <td>459.400806</td>\n",
              "      <td>1237.532422</td>\n",
              "      <td>913.476074</td>\n",
              "      <td>128.521655</td>\n",
              "      <td>51.102543</td>\n",
              "    </tr>\n",
              "    <tr>\n",
              "      <th>29709</th>\n",
              "      <td>50.070292</td>\n",
              "      <td>52.696284</td>\n",
              "      <td>459.942578</td>\n",
              "      <td>1237.783984</td>\n",
              "      <td>913.913086</td>\n",
              "      <td>128.503632</td>\n",
              "      <td>51.102639</td>\n",
              "    </tr>\n",
              "    <tr>\n",
              "      <th>29710</th>\n",
              "      <td>50.070389</td>\n",
              "      <td>52.675853</td>\n",
              "      <td>460.185791</td>\n",
              "      <td>1237.441895</td>\n",
              "      <td>913.895508</td>\n",
              "      <td>128.481744</td>\n",
              "      <td>51.103799</td>\n",
              "    </tr>\n",
              "    <tr>\n",
              "      <th>29711</th>\n",
              "      <td>50.070426</td>\n",
              "      <td>52.778009</td>\n",
              "      <td>460.525000</td>\n",
              "      <td>1239.173828</td>\n",
              "      <td>914.839062</td>\n",
              "      <td>128.774774</td>\n",
              "      <td>51.098194</td>\n",
              "    </tr>\n",
              "  </tbody>\n",
              "</table>\n",
              "<p>29712 rows × 7 columns</p>\n",
              "</div>\n",
              "    <div class=\"colab-df-buttons\">\n",
              "\n",
              "  <div class=\"colab-df-container\">\n",
              "    <button class=\"colab-df-convert\" onclick=\"convertToInteractive('df-818fbba5-295b-4559-bd80-b104804915d2')\"\n",
              "            title=\"Convert this dataframe to an interactive table.\"\n",
              "            style=\"display:none;\">\n",
              "\n",
              "  <svg xmlns=\"http://www.w3.org/2000/svg\" height=\"24px\" viewBox=\"0 -960 960 960\">\n",
              "    <path d=\"M120-120v-720h720v720H120Zm60-500h600v-160H180v160Zm220 220h160v-160H400v160Zm0 220h160v-160H400v160ZM180-400h160v-160H180v160Zm440 0h160v-160H620v160ZM180-180h160v-160H180v160Zm440 0h160v-160H620v160Z\"/>\n",
              "  </svg>\n",
              "    </button>\n",
              "\n",
              "  <style>\n",
              "    .colab-df-container {\n",
              "      display:flex;\n",
              "      gap: 12px;\n",
              "    }\n",
              "\n",
              "    .colab-df-convert {\n",
              "      background-color: #E8F0FE;\n",
              "      border: none;\n",
              "      border-radius: 50%;\n",
              "      cursor: pointer;\n",
              "      display: none;\n",
              "      fill: #1967D2;\n",
              "      height: 32px;\n",
              "      padding: 0 0 0 0;\n",
              "      width: 32px;\n",
              "    }\n",
              "\n",
              "    .colab-df-convert:hover {\n",
              "      background-color: #E2EBFA;\n",
              "      box-shadow: 0px 1px 2px rgba(60, 64, 67, 0.3), 0px 1px 3px 1px rgba(60, 64, 67, 0.15);\n",
              "      fill: #174EA6;\n",
              "    }\n",
              "\n",
              "    .colab-df-buttons div {\n",
              "      margin-bottom: 4px;\n",
              "    }\n",
              "\n",
              "    [theme=dark] .colab-df-convert {\n",
              "      background-color: #3B4455;\n",
              "      fill: #D2E3FC;\n",
              "    }\n",
              "\n",
              "    [theme=dark] .colab-df-convert:hover {\n",
              "      background-color: #434B5C;\n",
              "      box-shadow: 0px 1px 3px 1px rgba(0, 0, 0, 0.15);\n",
              "      filter: drop-shadow(0px 1px 2px rgba(0, 0, 0, 0.3));\n",
              "      fill: #FFFFFF;\n",
              "    }\n",
              "  </style>\n",
              "\n",
              "    <script>\n",
              "      const buttonEl =\n",
              "        document.querySelector('#df-818fbba5-295b-4559-bd80-b104804915d2 button.colab-df-convert');\n",
              "      buttonEl.style.display =\n",
              "        google.colab.kernel.accessAllowed ? 'block' : 'none';\n",
              "\n",
              "      async function convertToInteractive(key) {\n",
              "        const element = document.querySelector('#df-818fbba5-295b-4559-bd80-b104804915d2');\n",
              "        const dataTable =\n",
              "          await google.colab.kernel.invokeFunction('convertToInteractive',\n",
              "                                                    [key], {});\n",
              "        if (!dataTable) return;\n",
              "\n",
              "        const docLinkHtml = 'Like what you see? Visit the ' +\n",
              "          '<a target=\"_blank\" href=https://colab.research.google.com/notebooks/data_table.ipynb>data table notebook</a>'\n",
              "          + ' to learn more about interactive tables.';\n",
              "        element.innerHTML = '';\n",
              "        dataTable['output_type'] = 'display_data';\n",
              "        await google.colab.output.renderOutput(dataTable, element);\n",
              "        const docLink = document.createElement('div');\n",
              "        docLink.innerHTML = docLinkHtml;\n",
              "        element.appendChild(docLink);\n",
              "      }\n",
              "    </script>\n",
              "  </div>\n",
              "\n",
              "\n",
              "<div id=\"df-50cfd84e-7d33-4a7b-ac7a-8232aee1448a\">\n",
              "  <button class=\"colab-df-quickchart\" onclick=\"quickchart('df-50cfd84e-7d33-4a7b-ac7a-8232aee1448a')\"\n",
              "            title=\"Suggest charts\"\n",
              "            style=\"display:none;\">\n",
              "\n",
              "<svg xmlns=\"http://www.w3.org/2000/svg\" height=\"24px\"viewBox=\"0 0 24 24\"\n",
              "     width=\"24px\">\n",
              "    <g>\n",
              "        <path d=\"M19 3H5c-1.1 0-2 .9-2 2v14c0 1.1.9 2 2 2h14c1.1 0 2-.9 2-2V5c0-1.1-.9-2-2-2zM9 17H7v-7h2v7zm4 0h-2V7h2v10zm4 0h-2v-4h2v4z\"/>\n",
              "    </g>\n",
              "</svg>\n",
              "  </button>\n",
              "\n",
              "<style>\n",
              "  .colab-df-quickchart {\n",
              "      --bg-color: #E8F0FE;\n",
              "      --fill-color: #1967D2;\n",
              "      --hover-bg-color: #E2EBFA;\n",
              "      --hover-fill-color: #174EA6;\n",
              "      --disabled-fill-color: #AAA;\n",
              "      --disabled-bg-color: #DDD;\n",
              "  }\n",
              "\n",
              "  [theme=dark] .colab-df-quickchart {\n",
              "      --bg-color: #3B4455;\n",
              "      --fill-color: #D2E3FC;\n",
              "      --hover-bg-color: #434B5C;\n",
              "      --hover-fill-color: #FFFFFF;\n",
              "      --disabled-bg-color: #3B4455;\n",
              "      --disabled-fill-color: #666;\n",
              "  }\n",
              "\n",
              "  .colab-df-quickchart {\n",
              "    background-color: var(--bg-color);\n",
              "    border: none;\n",
              "    border-radius: 50%;\n",
              "    cursor: pointer;\n",
              "    display: none;\n",
              "    fill: var(--fill-color);\n",
              "    height: 32px;\n",
              "    padding: 0;\n",
              "    width: 32px;\n",
              "  }\n",
              "\n",
              "  .colab-df-quickchart:hover {\n",
              "    background-color: var(--hover-bg-color);\n",
              "    box-shadow: 0 1px 2px rgba(60, 64, 67, 0.3), 0 1px 3px 1px rgba(60, 64, 67, 0.15);\n",
              "    fill: var(--button-hover-fill-color);\n",
              "  }\n",
              "\n",
              "  .colab-df-quickchart-complete:disabled,\n",
              "  .colab-df-quickchart-complete:disabled:hover {\n",
              "    background-color: var(--disabled-bg-color);\n",
              "    fill: var(--disabled-fill-color);\n",
              "    box-shadow: none;\n",
              "  }\n",
              "\n",
              "  .colab-df-spinner {\n",
              "    border: 2px solid var(--fill-color);\n",
              "    border-color: transparent;\n",
              "    border-bottom-color: var(--fill-color);\n",
              "    animation:\n",
              "      spin 1s steps(1) infinite;\n",
              "  }\n",
              "\n",
              "  @keyframes spin {\n",
              "    0% {\n",
              "      border-color: transparent;\n",
              "      border-bottom-color: var(--fill-color);\n",
              "      border-left-color: var(--fill-color);\n",
              "    }\n",
              "    20% {\n",
              "      border-color: transparent;\n",
              "      border-left-color: var(--fill-color);\n",
              "      border-top-color: var(--fill-color);\n",
              "    }\n",
              "    30% {\n",
              "      border-color: transparent;\n",
              "      border-left-color: var(--fill-color);\n",
              "      border-top-color: var(--fill-color);\n",
              "      border-right-color: var(--fill-color);\n",
              "    }\n",
              "    40% {\n",
              "      border-color: transparent;\n",
              "      border-right-color: var(--fill-color);\n",
              "      border-top-color: var(--fill-color);\n",
              "    }\n",
              "    60% {\n",
              "      border-color: transparent;\n",
              "      border-right-color: var(--fill-color);\n",
              "    }\n",
              "    80% {\n",
              "      border-color: transparent;\n",
              "      border-right-color: var(--fill-color);\n",
              "      border-bottom-color: var(--fill-color);\n",
              "    }\n",
              "    90% {\n",
              "      border-color: transparent;\n",
              "      border-bottom-color: var(--fill-color);\n",
              "    }\n",
              "  }\n",
              "</style>\n",
              "\n",
              "  <script>\n",
              "    async function quickchart(key) {\n",
              "      const quickchartButtonEl =\n",
              "        document.querySelector('#' + key + ' button');\n",
              "      quickchartButtonEl.disabled = true;  // To prevent multiple clicks.\n",
              "      quickchartButtonEl.classList.add('colab-df-spinner');\n",
              "      try {\n",
              "        const charts = await google.colab.kernel.invokeFunction(\n",
              "            'suggestCharts', [key], {});\n",
              "      } catch (error) {\n",
              "        console.error('Error during call to suggestCharts:', error);\n",
              "      }\n",
              "      quickchartButtonEl.classList.remove('colab-df-spinner');\n",
              "      quickchartButtonEl.classList.add('colab-df-quickchart-complete');\n",
              "    }\n",
              "    (() => {\n",
              "      let quickchartButtonEl =\n",
              "        document.querySelector('#df-50cfd84e-7d33-4a7b-ac7a-8232aee1448a button');\n",
              "      quickchartButtonEl.style.display =\n",
              "        google.colab.kernel.accessAllowed ? 'block' : 'none';\n",
              "    })();\n",
              "  </script>\n",
              "</div>\n",
              "    </div>\n",
              "  </div>\n"
            ]
          },
          "metadata": {},
          "execution_count": 3
        }
      ]
    },
    {
      "cell_type": "code",
      "source": [
        "inputs = ['KS4_GPA5_Qtg.PV', 'KS4_GPA5_TC_T1.PV', 'KS4_GPA5_Nst.PV'] # предикторы\n",
        "outputs = ['KS4_GPA5_Nvd.PV', 'KS4_GPA5_Nnd.PV', 'KS4_GPA5_T4.PV', 'KS4_GPA5_Pk.PV'] # отклики, целевые признаки"
      ],
      "metadata": {
        "id": "0uMqc5JDKQl3"
      },
      "execution_count": 4,
      "outputs": []
    },
    {
      "cell_type": "markdown",
      "source": [
        "# Задача - построить предсказательую модель outputs по inputs\n",
        "### Результатом решения задачи является код эксперимента в Jupyter Notebook, содержащий качественное обоснование выбора той или иной архитектуры (метода). В качестве base line рекомендуется выбрать модель линейной регрессии."
      ],
      "metadata": {
        "id": "gWGuYMAGKewD"
      }
    },
    {
      "cell_type": "markdown",
      "source": [
        "# ДЗ:\n",
        "1. Сделать разведочный анализ данных, найти пропуски и выбросы. Примеры есть в ноутбуке EDA_AUTO из 4 задания.\n",
        "2. Заполнить пропуски. Заполнить медианой или обучить линейную регрессию и заполнить ею пропуски. Если заполните линейной регрессией пропуски, то с помощью таблицы корреляций найдите второй признак, который имеет сильную взаимосвязь с первым признаком. Создаете отдельный датафрейм из этих признаков, исключаете пропуски (не удаляете), обучаете линейну регрессию. Затем прогнозируете на исключенных данных с пропусками и заполняете эти пропуски предсказанным значением.\n",
        "3. Обучить множественную линейную регрессию. Она будет являться base line, т.е. базовая модель. С ней вы будете сравнивать другие модели.\n",
        "4. Используя кроссвалидацию, подбор гиперпараметров обучить модели Lasso regression, Ridge Regression, ElasticNet (модель где Ridge + Lasso вместе используется), DecisionTreeRegressor, SVR, RandomForestRegressor"
      ],
      "metadata": {
        "id": "HkwKlLXEKi-4"
      }
    },
    {
      "cell_type": "markdown",
      "source": [
        "5. `alphas=[0.0001, 0.001,0.01, 0.1, 1, 10]` - для MultiTaskLassoCV, RidgeCV, и для ElasticNetCV.\n",
        "\n",
        "`'l1_ratio':[0.01, 0.1, 0.5, 1, 5, 10, 15, 20]` - для ElasticNetCV"
      ],
      "metadata": {
        "id": "ykYWIYujKl1y"
      }
    },
    {
      "cell_type": "markdown",
      "source": [
        "6. **для SVR и RandomForest:**\n",
        "```python\n",
        "param_grid = [{'regressor':[SVR()], 'preprocessing':[StandardScaler(), None],\n",
        "              'regressor__gamma':[0.001, 0.01, 0.1, 1, 10, 100],\n",
        "               'regressor__C': [0.001, 0.01, 0.1, 1, 10, 100]},\n",
        "              {'regressor': [DecisionTreeRegressor()],\n",
        "               'preprocessing': [None],\n",
        "               'regressor__max_features': [1, 2, 3]},\n",
        "              {'regressor': [RandomForestRegressor(n_estimators=100)],\n",
        "               'preprocessing': [None],\n",
        "               'regressor__max_features': [1, 2, 3]}]\n",
        "```"
      ],
      "metadata": {
        "id": "hbT3d0eLKnnT"
      }
    },
    {
      "cell_type": "markdown",
      "source": [
        "7. **Если SVR обучается, то используем только этот набор параметров:**\n",
        "```python\n",
        "param_grid={\n",
        "    'estimator__gamma': [0.001, 0.01],\n",
        "    'estimator__C': [0.001, 0.01],\n",
        "}\n",
        "```"
      ],
      "metadata": {
        "id": "uwrJD3maKrkm"
      }
    },
    {
      "cell_type": "code",
      "source": [
        "df.describe()"
      ],
      "metadata": {
        "colab": {
          "base_uri": "https://localhost:8080/",
          "height": 300
        },
        "id": "Jx7TyZGdKuLe",
        "outputId": "23616a7c-2896-4ea4-97ca-9666c8d7c3c3"
      },
      "execution_count": 5,
      "outputs": [
        {
          "output_type": "execute_result",
          "data": {
            "text/plain": [
              "       KS4_GPA5_Qtg.PV  KS4_GPA5_TC_T1.PV  KS4_GPA5_Nst.PV  KS4_GPA5_Nvd.PV  \\\n",
              "count     29712.000000       29712.000000     29712.000000     29712.000000   \n",
              "mean         50.075761          51.582940       496.375057      1228.936047   \n",
              "std           0.004490           0.718957        16.656003         9.293723   \n",
              "min          50.067757          50.118885       458.647290      1207.311621   \n",
              "25%          50.072440          50.940938       484.903076      1222.372168   \n",
              "50%          50.074476          51.725804       490.411133      1228.801709   \n",
              "75%          50.079485          52.134428       509.792322      1236.431030   \n",
              "max          50.089918          53.053829       526.688867      1264.442773   \n",
              "\n",
              "       KS4_GPA5_Nnd.PV  KS4_GPA5_T4.PV  KS4_GPA5_Pk.PV  \n",
              "count     27711.000000    29712.000000    29712.000000  \n",
              "mean        925.288586      123.147985       51.579620  \n",
              "std          12.649640        2.293297       58.430508  \n",
              "min         910.000195      118.375299       51.074956  \n",
              "25%         915.022510      121.428400       51.183080  \n",
              "50%         920.266797      123.233508       51.244438  \n",
              "75%         936.632568      125.019626       51.271976  \n",
              "max         977.826953      128.815308    10123.000000  "
            ],
            "text/html": [
              "\n",
              "  <div id=\"df-7d8f13d6-59da-45f1-ae4d-8cabdbd92565\" class=\"colab-df-container\">\n",
              "    <div>\n",
              "<style scoped>\n",
              "    .dataframe tbody tr th:only-of-type {\n",
              "        vertical-align: middle;\n",
              "    }\n",
              "\n",
              "    .dataframe tbody tr th {\n",
              "        vertical-align: top;\n",
              "    }\n",
              "\n",
              "    .dataframe thead th {\n",
              "        text-align: right;\n",
              "    }\n",
              "</style>\n",
              "<table border=\"1\" class=\"dataframe\">\n",
              "  <thead>\n",
              "    <tr style=\"text-align: right;\">\n",
              "      <th></th>\n",
              "      <th>KS4_GPA5_Qtg.PV</th>\n",
              "      <th>KS4_GPA5_TC_T1.PV</th>\n",
              "      <th>KS4_GPA5_Nst.PV</th>\n",
              "      <th>KS4_GPA5_Nvd.PV</th>\n",
              "      <th>KS4_GPA5_Nnd.PV</th>\n",
              "      <th>KS4_GPA5_T4.PV</th>\n",
              "      <th>KS4_GPA5_Pk.PV</th>\n",
              "    </tr>\n",
              "  </thead>\n",
              "  <tbody>\n",
              "    <tr>\n",
              "      <th>count</th>\n",
              "      <td>29712.000000</td>\n",
              "      <td>29712.000000</td>\n",
              "      <td>29712.000000</td>\n",
              "      <td>29712.000000</td>\n",
              "      <td>27711.000000</td>\n",
              "      <td>29712.000000</td>\n",
              "      <td>29712.000000</td>\n",
              "    </tr>\n",
              "    <tr>\n",
              "      <th>mean</th>\n",
              "      <td>50.075761</td>\n",
              "      <td>51.582940</td>\n",
              "      <td>496.375057</td>\n",
              "      <td>1228.936047</td>\n",
              "      <td>925.288586</td>\n",
              "      <td>123.147985</td>\n",
              "      <td>51.579620</td>\n",
              "    </tr>\n",
              "    <tr>\n",
              "      <th>std</th>\n",
              "      <td>0.004490</td>\n",
              "      <td>0.718957</td>\n",
              "      <td>16.656003</td>\n",
              "      <td>9.293723</td>\n",
              "      <td>12.649640</td>\n",
              "      <td>2.293297</td>\n",
              "      <td>58.430508</td>\n",
              "    </tr>\n",
              "    <tr>\n",
              "      <th>min</th>\n",
              "      <td>50.067757</td>\n",
              "      <td>50.118885</td>\n",
              "      <td>458.647290</td>\n",
              "      <td>1207.311621</td>\n",
              "      <td>910.000195</td>\n",
              "      <td>118.375299</td>\n",
              "      <td>51.074956</td>\n",
              "    </tr>\n",
              "    <tr>\n",
              "      <th>25%</th>\n",
              "      <td>50.072440</td>\n",
              "      <td>50.940938</td>\n",
              "      <td>484.903076</td>\n",
              "      <td>1222.372168</td>\n",
              "      <td>915.022510</td>\n",
              "      <td>121.428400</td>\n",
              "      <td>51.183080</td>\n",
              "    </tr>\n",
              "    <tr>\n",
              "      <th>50%</th>\n",
              "      <td>50.074476</td>\n",
              "      <td>51.725804</td>\n",
              "      <td>490.411133</td>\n",
              "      <td>1228.801709</td>\n",
              "      <td>920.266797</td>\n",
              "      <td>123.233508</td>\n",
              "      <td>51.244438</td>\n",
              "    </tr>\n",
              "    <tr>\n",
              "      <th>75%</th>\n",
              "      <td>50.079485</td>\n",
              "      <td>52.134428</td>\n",
              "      <td>509.792322</td>\n",
              "      <td>1236.431030</td>\n",
              "      <td>936.632568</td>\n",
              "      <td>125.019626</td>\n",
              "      <td>51.271976</td>\n",
              "    </tr>\n",
              "    <tr>\n",
              "      <th>max</th>\n",
              "      <td>50.089918</td>\n",
              "      <td>53.053829</td>\n",
              "      <td>526.688867</td>\n",
              "      <td>1264.442773</td>\n",
              "      <td>977.826953</td>\n",
              "      <td>128.815308</td>\n",
              "      <td>10123.000000</td>\n",
              "    </tr>\n",
              "  </tbody>\n",
              "</table>\n",
              "</div>\n",
              "    <div class=\"colab-df-buttons\">\n",
              "\n",
              "  <div class=\"colab-df-container\">\n",
              "    <button class=\"colab-df-convert\" onclick=\"convertToInteractive('df-7d8f13d6-59da-45f1-ae4d-8cabdbd92565')\"\n",
              "            title=\"Convert this dataframe to an interactive table.\"\n",
              "            style=\"display:none;\">\n",
              "\n",
              "  <svg xmlns=\"http://www.w3.org/2000/svg\" height=\"24px\" viewBox=\"0 -960 960 960\">\n",
              "    <path d=\"M120-120v-720h720v720H120Zm60-500h600v-160H180v160Zm220 220h160v-160H400v160Zm0 220h160v-160H400v160ZM180-400h160v-160H180v160Zm440 0h160v-160H620v160ZM180-180h160v-160H180v160Zm440 0h160v-160H620v160Z\"/>\n",
              "  </svg>\n",
              "    </button>\n",
              "\n",
              "  <style>\n",
              "    .colab-df-container {\n",
              "      display:flex;\n",
              "      gap: 12px;\n",
              "    }\n",
              "\n",
              "    .colab-df-convert {\n",
              "      background-color: #E8F0FE;\n",
              "      border: none;\n",
              "      border-radius: 50%;\n",
              "      cursor: pointer;\n",
              "      display: none;\n",
              "      fill: #1967D2;\n",
              "      height: 32px;\n",
              "      padding: 0 0 0 0;\n",
              "      width: 32px;\n",
              "    }\n",
              "\n",
              "    .colab-df-convert:hover {\n",
              "      background-color: #E2EBFA;\n",
              "      box-shadow: 0px 1px 2px rgba(60, 64, 67, 0.3), 0px 1px 3px 1px rgba(60, 64, 67, 0.15);\n",
              "      fill: #174EA6;\n",
              "    }\n",
              "\n",
              "    .colab-df-buttons div {\n",
              "      margin-bottom: 4px;\n",
              "    }\n",
              "\n",
              "    [theme=dark] .colab-df-convert {\n",
              "      background-color: #3B4455;\n",
              "      fill: #D2E3FC;\n",
              "    }\n",
              "\n",
              "    [theme=dark] .colab-df-convert:hover {\n",
              "      background-color: #434B5C;\n",
              "      box-shadow: 0px 1px 3px 1px rgba(0, 0, 0, 0.15);\n",
              "      filter: drop-shadow(0px 1px 2px rgba(0, 0, 0, 0.3));\n",
              "      fill: #FFFFFF;\n",
              "    }\n",
              "  </style>\n",
              "\n",
              "    <script>\n",
              "      const buttonEl =\n",
              "        document.querySelector('#df-7d8f13d6-59da-45f1-ae4d-8cabdbd92565 button.colab-df-convert');\n",
              "      buttonEl.style.display =\n",
              "        google.colab.kernel.accessAllowed ? 'block' : 'none';\n",
              "\n",
              "      async function convertToInteractive(key) {\n",
              "        const element = document.querySelector('#df-7d8f13d6-59da-45f1-ae4d-8cabdbd92565');\n",
              "        const dataTable =\n",
              "          await google.colab.kernel.invokeFunction('convertToInteractive',\n",
              "                                                    [key], {});\n",
              "        if (!dataTable) return;\n",
              "\n",
              "        const docLinkHtml = 'Like what you see? Visit the ' +\n",
              "          '<a target=\"_blank\" href=https://colab.research.google.com/notebooks/data_table.ipynb>data table notebook</a>'\n",
              "          + ' to learn more about interactive tables.';\n",
              "        element.innerHTML = '';\n",
              "        dataTable['output_type'] = 'display_data';\n",
              "        await google.colab.output.renderOutput(dataTable, element);\n",
              "        const docLink = document.createElement('div');\n",
              "        docLink.innerHTML = docLinkHtml;\n",
              "        element.appendChild(docLink);\n",
              "      }\n",
              "    </script>\n",
              "  </div>\n",
              "\n",
              "\n",
              "<div id=\"df-41ad5724-ff12-44df-9007-f04c64dc5b27\">\n",
              "  <button class=\"colab-df-quickchart\" onclick=\"quickchart('df-41ad5724-ff12-44df-9007-f04c64dc5b27')\"\n",
              "            title=\"Suggest charts\"\n",
              "            style=\"display:none;\">\n",
              "\n",
              "<svg xmlns=\"http://www.w3.org/2000/svg\" height=\"24px\"viewBox=\"0 0 24 24\"\n",
              "     width=\"24px\">\n",
              "    <g>\n",
              "        <path d=\"M19 3H5c-1.1 0-2 .9-2 2v14c0 1.1.9 2 2 2h14c1.1 0 2-.9 2-2V5c0-1.1-.9-2-2-2zM9 17H7v-7h2v7zm4 0h-2V7h2v10zm4 0h-2v-4h2v4z\"/>\n",
              "    </g>\n",
              "</svg>\n",
              "  </button>\n",
              "\n",
              "<style>\n",
              "  .colab-df-quickchart {\n",
              "      --bg-color: #E8F0FE;\n",
              "      --fill-color: #1967D2;\n",
              "      --hover-bg-color: #E2EBFA;\n",
              "      --hover-fill-color: #174EA6;\n",
              "      --disabled-fill-color: #AAA;\n",
              "      --disabled-bg-color: #DDD;\n",
              "  }\n",
              "\n",
              "  [theme=dark] .colab-df-quickchart {\n",
              "      --bg-color: #3B4455;\n",
              "      --fill-color: #D2E3FC;\n",
              "      --hover-bg-color: #434B5C;\n",
              "      --hover-fill-color: #FFFFFF;\n",
              "      --disabled-bg-color: #3B4455;\n",
              "      --disabled-fill-color: #666;\n",
              "  }\n",
              "\n",
              "  .colab-df-quickchart {\n",
              "    background-color: var(--bg-color);\n",
              "    border: none;\n",
              "    border-radius: 50%;\n",
              "    cursor: pointer;\n",
              "    display: none;\n",
              "    fill: var(--fill-color);\n",
              "    height: 32px;\n",
              "    padding: 0;\n",
              "    width: 32px;\n",
              "  }\n",
              "\n",
              "  .colab-df-quickchart:hover {\n",
              "    background-color: var(--hover-bg-color);\n",
              "    box-shadow: 0 1px 2px rgba(60, 64, 67, 0.3), 0 1px 3px 1px rgba(60, 64, 67, 0.15);\n",
              "    fill: var(--button-hover-fill-color);\n",
              "  }\n",
              "\n",
              "  .colab-df-quickchart-complete:disabled,\n",
              "  .colab-df-quickchart-complete:disabled:hover {\n",
              "    background-color: var(--disabled-bg-color);\n",
              "    fill: var(--disabled-fill-color);\n",
              "    box-shadow: none;\n",
              "  }\n",
              "\n",
              "  .colab-df-spinner {\n",
              "    border: 2px solid var(--fill-color);\n",
              "    border-color: transparent;\n",
              "    border-bottom-color: var(--fill-color);\n",
              "    animation:\n",
              "      spin 1s steps(1) infinite;\n",
              "  }\n",
              "\n",
              "  @keyframes spin {\n",
              "    0% {\n",
              "      border-color: transparent;\n",
              "      border-bottom-color: var(--fill-color);\n",
              "      border-left-color: var(--fill-color);\n",
              "    }\n",
              "    20% {\n",
              "      border-color: transparent;\n",
              "      border-left-color: var(--fill-color);\n",
              "      border-top-color: var(--fill-color);\n",
              "    }\n",
              "    30% {\n",
              "      border-color: transparent;\n",
              "      border-left-color: var(--fill-color);\n",
              "      border-top-color: var(--fill-color);\n",
              "      border-right-color: var(--fill-color);\n",
              "    }\n",
              "    40% {\n",
              "      border-color: transparent;\n",
              "      border-right-color: var(--fill-color);\n",
              "      border-top-color: var(--fill-color);\n",
              "    }\n",
              "    60% {\n",
              "      border-color: transparent;\n",
              "      border-right-color: var(--fill-color);\n",
              "    }\n",
              "    80% {\n",
              "      border-color: transparent;\n",
              "      border-right-color: var(--fill-color);\n",
              "      border-bottom-color: var(--fill-color);\n",
              "    }\n",
              "    90% {\n",
              "      border-color: transparent;\n",
              "      border-bottom-color: var(--fill-color);\n",
              "    }\n",
              "  }\n",
              "</style>\n",
              "\n",
              "  <script>\n",
              "    async function quickchart(key) {\n",
              "      const quickchartButtonEl =\n",
              "        document.querySelector('#' + key + ' button');\n",
              "      quickchartButtonEl.disabled = true;  // To prevent multiple clicks.\n",
              "      quickchartButtonEl.classList.add('colab-df-spinner');\n",
              "      try {\n",
              "        const charts = await google.colab.kernel.invokeFunction(\n",
              "            'suggestCharts', [key], {});\n",
              "      } catch (error) {\n",
              "        console.error('Error during call to suggestCharts:', error);\n",
              "      }\n",
              "      quickchartButtonEl.classList.remove('colab-df-spinner');\n",
              "      quickchartButtonEl.classList.add('colab-df-quickchart-complete');\n",
              "    }\n",
              "    (() => {\n",
              "      let quickchartButtonEl =\n",
              "        document.querySelector('#df-41ad5724-ff12-44df-9007-f04c64dc5b27 button');\n",
              "      quickchartButtonEl.style.display =\n",
              "        google.colab.kernel.accessAllowed ? 'block' : 'none';\n",
              "    })();\n",
              "  </script>\n",
              "</div>\n",
              "    </div>\n",
              "  </div>\n"
            ]
          },
          "metadata": {},
          "execution_count": 5
        }
      ]
    },
    {
      "cell_type": "code",
      "source": [
        "df['KS4_GPA5_Pk.PV'].sort_values(ascending=False)"
      ],
      "metadata": {
        "colab": {
          "base_uri": "https://localhost:8080/"
        },
        "id": "MjDB70E-LI5B",
        "outputId": "4d7d79bb-d34f-4d51-ad4c-caa5712a9217"
      },
      "execution_count": 6,
      "outputs": [
        {
          "output_type": "execute_result",
          "data": {
            "text/plain": [
              "20100    10123.000000\n",
              "7611        51.402325\n",
              "7613        51.401648\n",
              "7623        51.401648\n",
              "7633        51.401358\n",
              "             ...     \n",
              "29664       51.096454\n",
              "29671       51.096261\n",
              "29672       51.095778\n",
              "29674       51.095585\n",
              "28419       51.074956\n",
              "Name: KS4_GPA5_Pk.PV, Length: 29712, dtype: float64"
            ]
          },
          "metadata": {},
          "execution_count": 6
        }
      ]
    },
    {
      "cell_type": "code",
      "source": [
        "df.at[20100, 'KS4_GPA5_Pk.PV'] = df['KS4_GPA5_Pk.PV'].median()"
      ],
      "metadata": {
        "id": "b1BZhPy0LR-f"
      },
      "execution_count": 7,
      "outputs": []
    },
    {
      "cell_type": "code",
      "source": [
        "print(df.isnull().any())\n",
        "print(df.isna().any())"
      ],
      "metadata": {
        "colab": {
          "base_uri": "https://localhost:8080/"
        },
        "id": "IV150V4iLbEb",
        "outputId": "a4424f58-8ec3-4945-9e47-d4587e6480e5"
      },
      "execution_count": 8,
      "outputs": [
        {
          "output_type": "stream",
          "name": "stdout",
          "text": [
            "KS4_GPA5_Qtg.PV      False\n",
            "KS4_GPA5_TC_T1.PV    False\n",
            "KS4_GPA5_Nst.PV      False\n",
            "KS4_GPA5_Nvd.PV      False\n",
            "KS4_GPA5_Nnd.PV       True\n",
            "KS4_GPA5_T4.PV       False\n",
            "KS4_GPA5_Pk.PV       False\n",
            "dtype: bool\n",
            "KS4_GPA5_Qtg.PV      False\n",
            "KS4_GPA5_TC_T1.PV    False\n",
            "KS4_GPA5_Nst.PV      False\n",
            "KS4_GPA5_Nvd.PV      False\n",
            "KS4_GPA5_Nnd.PV       True\n",
            "KS4_GPA5_T4.PV       False\n",
            "KS4_GPA5_Pk.PV       False\n",
            "dtype: bool\n"
          ]
        }
      ]
    },
    {
      "cell_type": "code",
      "source": [
        "print(df.isnull().sum())"
      ],
      "metadata": {
        "colab": {
          "base_uri": "https://localhost:8080/"
        },
        "id": "6izFw2AHLcVK",
        "outputId": "ff314361-75cf-4542-eb6b-e83a0a7c3026"
      },
      "execution_count": 9,
      "outputs": [
        {
          "output_type": "stream",
          "name": "stdout",
          "text": [
            "KS4_GPA5_Qtg.PV         0\n",
            "KS4_GPA5_TC_T1.PV       0\n",
            "KS4_GPA5_Nst.PV         0\n",
            "KS4_GPA5_Nvd.PV         0\n",
            "KS4_GPA5_Nnd.PV      2001\n",
            "KS4_GPA5_T4.PV          0\n",
            "KS4_GPA5_Pk.PV          0\n",
            "dtype: int64\n"
          ]
        }
      ]
    },
    {
      "cell_type": "code",
      "source": [
        "df.fillna(df.mean(), inplace=True)"
      ],
      "metadata": {
        "id": "kAa3iaIhLiU1"
      },
      "execution_count": 10,
      "outputs": []
    },
    {
      "cell_type": "code",
      "source": [
        "print(df.isnull().sum())"
      ],
      "metadata": {
        "colab": {
          "base_uri": "https://localhost:8080/"
        },
        "id": "0ACWOHZxLkpE",
        "outputId": "272ed161-9c74-44d0-9c8e-3fe95b05024a"
      },
      "execution_count": 11,
      "outputs": [
        {
          "output_type": "stream",
          "name": "stdout",
          "text": [
            "KS4_GPA5_Qtg.PV      0\n",
            "KS4_GPA5_TC_T1.PV    0\n",
            "KS4_GPA5_Nst.PV      0\n",
            "KS4_GPA5_Nvd.PV      0\n",
            "KS4_GPA5_Nnd.PV      0\n",
            "KS4_GPA5_T4.PV       0\n",
            "KS4_GPA5_Pk.PV       0\n",
            "dtype: int64\n"
          ]
        }
      ]
    },
    {
      "cell_type": "code",
      "source": [
        "X = df[inputs]\n",
        "y = df[outputs]\n",
        "\n",
        "X_train, X_test, y_train, y_test = train_test_split(X, y, test_size=0.3)"
      ],
      "metadata": {
        "id": "ETOkensIMdgz"
      },
      "execution_count": 12,
      "outputs": []
    },
    {
      "cell_type": "markdown",
      "source": [
        "# Linear"
      ],
      "metadata": {
        "id": "IVcVdbCWMrlB"
      }
    },
    {
      "cell_type": "code",
      "source": [
        "model = LinearRegression()\n",
        "model.fit(X_train, y_train)\n",
        "y_pred = model.predict(X_test)\n",
        "print(f'Оценка точности модели: {model.score(X_train, y_train), model.score(X_test, y_test)}')"
      ],
      "metadata": {
        "colab": {
          "base_uri": "https://localhost:8080/"
        },
        "id": "3u1c2Cf0Mfey",
        "outputId": "2f1a9dc7-5882-48f5-921e-9a2b38be1088"
      },
      "execution_count": 31,
      "outputs": [
        {
          "output_type": "stream",
          "name": "stdout",
          "text": [
            "Оценка точности модели: (0.8780119233207486, 0.87909829849615)\n"
          ]
        }
      ]
    },
    {
      "cell_type": "markdown",
      "source": [
        "# Lasso"
      ],
      "metadata": {
        "id": "9pY9pzbfNNn_"
      }
    },
    {
      "cell_type": "code",
      "source": [
        "param_grid={\"alpha\": [0.0001, 0.001, 0.01, 0.1, 1, 10]}\n",
        "model = GridSearchCV(Lasso(), param_grid,cv=5, n_jobs=-1)\n",
        "model.fit(X_train, y_train)\n",
        "\n",
        "print(f'Оценка точности модели: {model.score(X_train, y_train), model.score(X_test, y_test)}')\n",
        "print(\"Наилучшее значение параметра:\", model.best_estimator_)"
      ],
      "metadata": {
        "colab": {
          "base_uri": "https://localhost:8080/"
        },
        "id": "z39AoUW9NQFH",
        "outputId": "e314ce98-4308-4851-d456-31bd52b5185b"
      },
      "execution_count": 29,
      "outputs": [
        {
          "output_type": "stream",
          "name": "stdout",
          "text": [
            "Оценка точности модели: (0.873763749979388, 0.8748159717286448)\n",
            "Наилучшее значение параметра: Lasso(alpha=0.0001)\n"
          ]
        }
      ]
    },
    {
      "cell_type": "markdown",
      "source": [
        "# Ridge"
      ],
      "metadata": {
        "id": "i3u7Jkk1OA4i"
      }
    },
    {
      "cell_type": "code",
      "source": [
        "model = GridSearchCV(Ridge(), param_grid,cv=5,n_jobs=-1)\n",
        "model.fit(X_train, y_train)\n",
        "\n",
        "print(f'Оценка точности модели: {model.score(X_train, y_train), model.score(X_test, y_test)}')\n",
        "print(\"Наилучшее значение параметра:\", model.best_estimator_)"
      ],
      "metadata": {
        "colab": {
          "base_uri": "https://localhost:8080/"
        },
        "id": "-5pIe_W6OIR8",
        "outputId": "69dfe141-7592-46a1-e3fc-be0c265d4d7d"
      },
      "execution_count": 27,
      "outputs": [
        {
          "output_type": "stream",
          "name": "stdout",
          "text": [
            "Оценка точности модели: (0.878011722846603, 0.8790976918687725)\n",
            "Наилучшее значение параметра: Ridge(alpha=0.0001)\n"
          ]
        }
      ]
    },
    {
      "cell_type": "markdown",
      "source": [
        "# ElasticNet"
      ],
      "metadata": {
        "id": "aj4L5PtgOQFQ"
      }
    },
    {
      "cell_type": "code",
      "source": [
        "param_grid_elasticnet = param_grid.copy()\n",
        "param_grid_elasticnet['l1_ratio'] = [0.01, 0.1, 0.5, 1, 5, 10, 15, 20]\n",
        "model = GridSearchCV(ElasticNet(), param_grid_elasticnet, cv=5,n_jobs=-1)\n",
        "model.fit(X_train, y_train)\n",
        "\n",
        "print(f'Оценка точности модели: {model.best_estimator_.score(X_train, y_train), model.best_estimator_.score(X_test, y_test)}')\n",
        "print(\"Наилучшее значение параметров:\", model.best_estimator_)"
      ],
      "metadata": {
        "colab": {
          "base_uri": "https://localhost:8080/"
        },
        "id": "v79Qjq3GOYjL",
        "outputId": "ab0f9de7-714d-49cb-99be-040c6adbd3ef"
      },
      "execution_count": 21,
      "outputs": [
        {
          "output_type": "stream",
          "name": "stdout",
          "text": [
            "Оценка точности модели: (0.873763749979388, 0.8748159717286448)\n",
            "Наилучшее значение параметров: ElasticNet(alpha=0.0001, l1_ratio=1)\n"
          ]
        }
      ]
    },
    {
      "cell_type": "markdown",
      "source": [
        "# DecisionTree"
      ],
      "metadata": {
        "id": "nWrDBeMjOoZN"
      }
    },
    {
      "cell_type": "code",
      "source": [
        "param_grid_dt = {'max_features': [1, 2, 3]}\n",
        "model = GridSearchCV(DecisionTreeRegressor(), param_grid_dt,cv=5,n_jobs=-1)\n",
        "model.fit(X_train, y_train)\n",
        "print(f'Оценка точности модели: {model.score(X_train, y_train), model.score(X_test, y_test)}')\n",
        "print(\"Наилучшее значение параметров: \", model.best_params_)"
      ],
      "metadata": {
        "colab": {
          "base_uri": "https://localhost:8080/"
        },
        "id": "dGygSbj0OqXs",
        "outputId": "0c7d2641-24b1-4847-c1f6-489ef5f8d767"
      },
      "execution_count": 23,
      "outputs": [
        {
          "output_type": "stream",
          "name": "stdout",
          "text": [
            "Оценка точности модели: (0.9999999310367996, 0.9845348606909508)\n",
            "Наилучшее значение параметров:  {'max_features': 3}\n"
          ]
        }
      ]
    },
    {
      "cell_type": "markdown",
      "source": [
        "# SVR"
      ],
      "metadata": {
        "id": "rYs6rqkiPtax"
      }
    },
    {
      "cell_type": "code",
      "source": [
        "from sklearn.multioutput import MultiOutputRegressor\n",
        "param_grid_svr = {\n",
        "    'estimator__gamma': [0.001, 0.01],\n",
        "    'estimator__C': [0.001, 0.01],\n",
        "}\n",
        "svr = SVR()\n",
        "multioutput_svr = MultiOutputRegressor(svr)\n",
        "model = GridSearchCV(multioutput_svr, param_grid_svr,cv=3,n_jobs=-1)\n",
        "model.fit(X_train, y_train)\n",
        "\n",
        "print(f'Оценка точности модели: {model.score(X_train, y_train), model.score(X_test, y_test)}')\n",
        "print(\"Наилучшее значение параметров: \", model.best_params_)"
      ],
      "metadata": {
        "colab": {
          "base_uri": "https://localhost:8080/"
        },
        "id": "mIrfBBJiO1vE",
        "outputId": "46f591de-85c6-4b2d-c9b3-adb208ddc706"
      },
      "execution_count": 24,
      "outputs": [
        {
          "output_type": "stream",
          "name": "stdout",
          "text": [
            "Оценка точности модели: (0.5113365346587987, 0.5105051800881988)\n",
            "Наилучшее значение параметров:  {'estimator__C': 0.01, 'estimator__gamma': 0.01}\n"
          ]
        }
      ]
    },
    {
      "cell_type": "markdown",
      "source": [
        "# RandomForest"
      ],
      "metadata": {
        "id": "Tc26BiHrRrxU"
      }
    },
    {
      "cell_type": "code",
      "source": [
        "param_grid_rf = {'max_features': [1, 2, 3]}\n",
        "model = GridSearchCV(DecisionTreeRegressor(), param_grid_rf,cv=5,n_jobs=-1)\n",
        "model.fit(X_train, y_train)\n",
        "\n",
        "print(f'Оценка точности модели: {model.best_estimator_.score(X_train, y_train), model.best_estimator_.score(X_test, y_test)}')\n",
        "print(\"Наилучшее значение параметров: \", model.best_estimator_)"
      ],
      "metadata": {
        "colab": {
          "base_uri": "https://localhost:8080/"
        },
        "id": "Kw3Y1oFHRsyL",
        "outputId": "468aa2ae-a902-4d7d-ae08-e1c7384e2730"
      },
      "execution_count": 25,
      "outputs": [
        {
          "output_type": "stream",
          "name": "stdout",
          "text": [
            "Оценка точности модели: (0.9999999310367996, 0.9846245153412055)\n",
            "Наилучшее значение параметров:  DecisionTreeRegressor(max_features=3)\n"
          ]
        }
      ]
    }
  ]
}